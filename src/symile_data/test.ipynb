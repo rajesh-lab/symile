{
 "cells": [
  {
   "cell_type": "code",
   "execution_count": 15,
   "metadata": {},
   "outputs": [],
   "source": [
    "import numpy as np\n",
    "import pandas as pd\n",
    "from pathlib import Path"
   ]
  },
  {
   "cell_type": "code",
   "execution_count": 2,
   "metadata": {},
   "outputs": [],
   "source": [
    "pd.reset_option('display.max_rows')\n",
    "# pd.set_option('display.max_rows', None)"
   ]
  },
  {
   "cell_type": "code",
   "execution_count": 20,
   "metadata": {},
   "outputs": [],
   "source": [
    "def predstr_to_class(class_string):\n",
    "    class_string = class_string.split(\" \")\n",
    "    classes = []\n",
    "    for x in class_string:\n",
    "        if len(x) > 0 and x[0] == \"n\":\n",
    "            classes.append(x)\n",
    "    classes = list(set(classes))\n",
    "    if len(classes) == 1:\n",
    "        return classes[0]\n",
    "    else:\n",
    "        return np.nan\n",
    "    \n",
    "\n",
    "def synsetmapping_to_name(synset_str):\n",
    "    class_string = class_string.split(\",\")\n",
    "    classes = []\n",
    "    for x in class_string:\n",
    "        if len(x) > 0 and x[0] == \"n\":\n",
    "            classes.append(x)\n",
    "    classes = list(set(classes))\n",
    "    if len(classes) == 1:\n",
    "        return classes[0]\n",
    "    else:\n",
    "        return np.nan"
   ]
  },
  {
   "cell_type": "code",
   "execution_count": 9,
   "metadata": {},
   "outputs": [],
   "source": [
    "imagenet_path = Path(\"/Users/adrielsaporta/Documents/NYU/symile_data/imagenet/imagenet-object-localization-challenge\")"
   ]
  },
  {
   "cell_type": "code",
   "execution_count": 36,
   "metadata": {},
   "outputs": [],
   "source": [
    "df = pd.read_csv(imagenet_path / \"LOC_train_solution.csv\")\n"
   ]
  },
  {
   "cell_type": "code",
   "execution_count": 48,
   "metadata": {},
   "outputs": [],
   "source": [
    "synset_mapping = pd.read_csv(imagenet_path / \"LOC_synset_mapping.txt\", sep=\"\\t\", names=[\"synset\"])"
   ]
  },
  {
   "cell_type": "code",
   "execution_count": 50,
   "metadata": {},
   "outputs": [],
   "source": [
    "synset_mapping[\"class\"] = synset_mapping.synset.apply(lambda x: x.split(\" \")[0])"
   ]
  },
  {
   "cell_type": "code",
   "execution_count": 52,
   "metadata": {},
   "outputs": [
    {
     "data": {
      "text/plain": [
       "'n01440764 tench, Tinca tinca'"
      ]
     },
     "execution_count": 52,
     "metadata": {},
     "output_type": "execute_result"
    }
   ],
   "source": [
    "synset_str = synset_mapping.iloc[0].synset\n",
    "synset_str"
   ]
  },
  {
   "cell_type": "code",
   "execution_count": 32,
   "metadata": {},
   "outputs": [],
   "source": [
    "df[\"class\"] = df[\"PredictionString\"].apply(lambda x: predstr_to_class(x))\n",
    "df = df.rename(columns={\"ImageId\": \"img_id\"}).\\\n",
    "        drop(columns=[\"PredictionString\"])"
   ]
  },
  {
   "cell_type": "code",
   "execution_count": 33,
   "metadata": {},
   "outputs": [
    {
     "data": {
      "text/html": [
       "<div>\n",
       "<style scoped>\n",
       "    .dataframe tbody tr th:only-of-type {\n",
       "        vertical-align: middle;\n",
       "    }\n",
       "\n",
       "    .dataframe tbody tr th {\n",
       "        vertical-align: top;\n",
       "    }\n",
       "\n",
       "    .dataframe thead th {\n",
       "        text-align: right;\n",
       "    }\n",
       "</style>\n",
       "<table border=\"1\" class=\"dataframe\">\n",
       "  <thead>\n",
       "    <tr style=\"text-align: right;\">\n",
       "      <th></th>\n",
       "      <th>img_id</th>\n",
       "      <th>class</th>\n",
       "    </tr>\n",
       "  </thead>\n",
       "  <tbody>\n",
       "    <tr>\n",
       "      <th>0</th>\n",
       "      <td>n02017213_7894</td>\n",
       "      <td>n02017213</td>\n",
       "    </tr>\n",
       "    <tr>\n",
       "      <th>1</th>\n",
       "      <td>n02017213_7261</td>\n",
       "      <td>n02017213</td>\n",
       "    </tr>\n",
       "    <tr>\n",
       "      <th>2</th>\n",
       "      <td>n02017213_5636</td>\n",
       "      <td>n02017213</td>\n",
       "    </tr>\n",
       "    <tr>\n",
       "      <th>3</th>\n",
       "      <td>n02017213_6132</td>\n",
       "      <td>n02017213</td>\n",
       "    </tr>\n",
       "    <tr>\n",
       "      <th>4</th>\n",
       "      <td>n02017213_7659</td>\n",
       "      <td>n02017213</td>\n",
       "    </tr>\n",
       "    <tr>\n",
       "      <th>...</th>\n",
       "      <td>...</td>\n",
       "      <td>...</td>\n",
       "    </tr>\n",
       "    <tr>\n",
       "      <th>544541</th>\n",
       "      <td>n02099849_7688</td>\n",
       "      <td>n02099849</td>\n",
       "    </tr>\n",
       "    <tr>\n",
       "      <th>544542</th>\n",
       "      <td>n02099849_2401</td>\n",
       "      <td>n02099849</td>\n",
       "    </tr>\n",
       "    <tr>\n",
       "      <th>544543</th>\n",
       "      <td>n02099849_3261</td>\n",
       "      <td>n02099849</td>\n",
       "    </tr>\n",
       "    <tr>\n",
       "      <th>544544</th>\n",
       "      <td>n02099849_2300</td>\n",
       "      <td>n02099849</td>\n",
       "    </tr>\n",
       "    <tr>\n",
       "      <th>544545</th>\n",
       "      <td>n02099849_4606</td>\n",
       "      <td>n02099849</td>\n",
       "    </tr>\n",
       "  </tbody>\n",
       "</table>\n",
       "<p>544546 rows × 2 columns</p>\n",
       "</div>"
      ],
      "text/plain": [
       "                img_id      class\n",
       "0       n02017213_7894  n02017213\n",
       "1       n02017213_7261  n02017213\n",
       "2       n02017213_5636  n02017213\n",
       "3       n02017213_6132  n02017213\n",
       "4       n02017213_7659  n02017213\n",
       "...                ...        ...\n",
       "544541  n02099849_7688  n02099849\n",
       "544542  n02099849_2401  n02099849\n",
       "544543  n02099849_3261  n02099849\n",
       "544544  n02099849_2300  n02099849\n",
       "544545  n02099849_4606  n02099849\n",
       "\n",
       "[544546 rows x 2 columns]"
      ]
     },
     "execution_count": 33,
     "metadata": {},
     "output_type": "execute_result"
    }
   ],
   "source": [
    "df"
   ]
  },
  {
   "cell_type": "code",
   "execution_count": null,
   "metadata": {},
   "outputs": [],
   "source": []
  }
 ],
 "metadata": {
  "kernelspec": {
   "display_name": "nyu",
   "language": "python",
   "name": "python3"
  },
  "language_info": {
   "codemirror_mode": {
    "name": "ipython",
    "version": 3
   },
   "file_extension": ".py",
   "mimetype": "text/x-python",
   "name": "python",
   "nbconvert_exporter": "python",
   "pygments_lexer": "ipython3",
   "version": "3.10.11"
  },
  "orig_nbformat": 4
 },
 "nbformat": 4,
 "nbformat_minor": 2
}
